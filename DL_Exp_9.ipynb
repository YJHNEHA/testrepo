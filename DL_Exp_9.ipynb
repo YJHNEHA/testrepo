{
  "nbformat": 4,
  "nbformat_minor": 0,
  "metadata": {
    "colab": {
      "provenance": []
    },
    "kernelspec": {
      "name": "python3",
      "display_name": "Python 3"
    },
    "language_info": {
      "name": "python"
    }
  },
  "cells": [
    {
      "cell_type": "code",
      "execution_count": null,
      "metadata": {
        "id": "oy_E4UGnMfBA"
      },
      "outputs": [],
      "source": [
        "import tensorflow as tf\n",
        "from tensorflow.keras.datasets import imdb\n",
        "from tensorflow.keras.preprocessing.sequence import pad_sequences\n",
        "from tensorflow.keras.layers import Embedding, Flatten, Dense"
      ]
    },
    {
      "cell_type": "code",
      "source": [
        "# Download and prepare the IMDB dataset\n",
        "num_words = 10000  # Limit vocabulary size\n",
        "(x_train, y_train), (x_test, y_test) = imdb.load_data(num_words=num_words)"
      ],
      "metadata": {
        "colab": {
          "base_uri": "https://localhost:8080/"
        },
        "id": "rF683DILMrsV",
        "outputId": "0924f75f-2d05-4cbf-d036-7b9ec1b1c4b8"
      },
      "execution_count": null,
      "outputs": [
        {
          "output_type": "stream",
          "name": "stdout",
          "text": [
            "Downloading data from https://storage.googleapis.com/tensorflow/tf-keras-datasets/imdb.npz\n",
            "17464789/17464789 [==============================] - 0s 0us/step\n"
          ]
        }
      ]
    },
    {
      "cell_type": "code",
      "source": [
        "# Pad sequences to the same length\n",
        "maxlen = len(max(x_train, key=len))\n",
        "x_train = pad_sequences(x_train, maxlen=maxlen)\n",
        "x_test = pad_sequences(x_test, maxlen=maxlen)"
      ],
      "metadata": {
        "id": "QXTFX-aSMuNF"
      },
      "execution_count": null,
      "outputs": []
    },
    {
      "cell_type": "code",
      "source": [
        "# Define the embedding layer\n",
        "embedding_dim = 128  # Dimension of the embedding vectors\n",
        "embedding_layer = Embedding(num_words, embedding_dim, input_length=maxlen)"
      ],
      "metadata": {
        "id": "43FFlA-ZMztk"
      },
      "execution_count": null,
      "outputs": []
    },
    {
      "cell_type": "code",
      "source": [
        "# Create a model to access the embedding layer\n",
        "model = tf.keras.Sequential([embedding_layer,Flatten(),])"
      ],
      "metadata": {
        "id": "mWbOy0kEM5jZ"
      },
      "execution_count": null,
      "outputs": []
    },
    {
      "cell_type": "code",
      "source": [
        "# Compile the model for training (not used for this purpose, but required for accessing embeddings)\n",
        "model.compile(loss='categorical_crossentropy', optimizer='adam', metrics=['accuracy'])\n"
      ],
      "metadata": {
        "id": "TutFlTcxM_Xh"
      },
      "execution_count": null,
      "outputs": []
    },
    {
      "cell_type": "code",
      "source": [
        "# Get the trained word embeddings\n",
        "word_embeddings = embedding_layer.get_weights()[0]"
      ],
      "metadata": {
        "id": "sNIU31XmNHcR"
      },
      "execution_count": null,
      "outputs": []
    },
    {
      "cell_type": "code",
      "source": [
        "# Example usage:\n",
        "word_index = imdb.get_word_index()\n",
        "reverse_word_index = dict([(value, key) for (key, value) in word_index.items()])"
      ],
      "metadata": {
        "colab": {
          "base_uri": "https://localhost:8080/"
        },
        "id": "c_phvbnbNL1T",
        "outputId": "d4982a90-0c9c-424a-bdd7-97c7190ffdad"
      },
      "execution_count": null,
      "outputs": [
        {
          "output_type": "stream",
          "name": "stdout",
          "text": [
            "Downloading data from https://storage.googleapis.com/tensorflow/tf-keras-datasets/imdb_word_index.json\n",
            "1641221/1641221 [==============================] - 0s 0us/step\n"
          ]
        }
      ]
    },
    {
      "cell_type": "code",
      "source": [
        "# Get the embedding for the word \"good\"\n",
        "word = \"good\"\n",
        "word_id = word_index[word]\n",
        "embedding = word_embeddings[word_id]\n",
        "\n",
        "print(\"Embedding for word '{}':\".format(word))\n",
        "print(embedding)"
      ],
      "metadata": {
        "colab": {
          "base_uri": "https://localhost:8080/"
        },
        "id": "dklID4hpNQ0J",
        "outputId": "1105a419-a763-4240-9231-5df3e3086c2a"
      },
      "execution_count": null,
      "outputs": [
        {
          "output_type": "stream",
          "name": "stdout",
          "text": [
            "Embedding for word 'good':\n",
            "[ 0.01013948  0.04998945  0.02994348 -0.03049541 -0.049115    0.02254938\n",
            " -0.0304345  -0.04964098  0.04991719  0.00371427 -0.04487621 -0.0157302\n",
            " -0.0200186   0.03106847  0.02703743 -0.0412951  -0.02495713  0.03407014\n",
            "  0.02281452  0.01283798  0.02258703 -0.03413361  0.01609731 -0.01595267\n",
            "  0.00265261  0.02106675 -0.00060623 -0.04409821  0.03436729  0.01914411\n",
            " -0.00997729 -0.04201796 -0.01939862 -0.02899215 -0.0167995   0.00454015\n",
            "  0.00949667  0.03080708 -0.03724538  0.04288354 -0.02436163 -0.03149166\n",
            " -0.01005839 -0.01816392  0.02322534 -0.02798709 -0.02826394 -0.03182135\n",
            " -0.00991849  0.00750555  0.0428925  -0.02027155  0.02444467  0.0178845\n",
            " -0.04351322 -0.00454236 -0.04309897  0.03996159  0.02865343 -0.00031238\n",
            "  0.00991165  0.03078971  0.00820013 -0.02242252 -0.0037281  -0.00501882\n",
            " -0.00212449  0.04747865 -0.03014953  0.00125932 -0.03780346 -0.01647103\n",
            "  0.01938942  0.04722548 -0.02217127  0.01240251  0.01434714 -0.00181335\n",
            "  0.01664683 -0.01120856  0.03164418 -0.03175904  0.01975269 -0.04076271\n",
            "  0.04237712 -0.00750182 -0.04247335  0.04680545  0.00907365  0.03293269\n",
            "  0.02560868 -0.03117081 -0.04277642 -0.00999755  0.02016049  0.02443385\n",
            "  0.03227181  0.0350471  -0.0363686   0.03936915 -0.00484661  0.03478612\n",
            " -0.04431871 -0.02462431 -0.01248128 -0.03187374 -0.04503435  0.01312691\n",
            " -0.04455131 -0.01769121  0.03800154  0.04891645  0.0356809   0.01991722\n",
            "  0.02430419 -0.04426414 -0.03832432  0.04960969 -0.04077208  0.04688016\n",
            "  0.03449349 -0.0480294  -0.0223275   0.00330408 -0.02281689  0.03638306\n",
            "  0.03091856  0.040316  ]\n"
          ]
        }
      ]
    },
    {
      "cell_type": "code",
      "source": [],
      "metadata": {
        "id": "PB4r13H3NkAh"
      },
      "execution_count": null,
      "outputs": []
    }
  ]
}